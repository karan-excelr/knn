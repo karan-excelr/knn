{
 "cells": [
  {
   "cell_type": "code",
   "execution_count": 4,
   "id": "46e419dc-2d5e-4dd5-97ef-a9ef0c085ed1",
   "metadata": {},
   "outputs": [
    {
     "name": "stdout",
     "output_type": "stream",
     "text": [
      "['Solarize_Light2', '_classic_test_patch', '_mpl-gallery', '_mpl-gallery-nogrid', 'bmh', 'classic', 'dark_background', 'fast', 'fivethirtyeight', 'ggplot', 'grayscale', 'seaborn-v0_8', 'seaborn-v0_8-bright', 'seaborn-v0_8-colorblind', 'seaborn-v0_8-dark', 'seaborn-v0_8-dark-palette', 'seaborn-v0_8-darkgrid', 'seaborn-v0_8-deep', 'seaborn-v0_8-muted', 'seaborn-v0_8-notebook', 'seaborn-v0_8-paper', 'seaborn-v0_8-pastel', 'seaborn-v0_8-poster', 'seaborn-v0_8-talk', 'seaborn-v0_8-ticks', 'seaborn-v0_8-white', 'seaborn-v0_8-whitegrid', 'tableau-colorblind10']\n"
     ]
    }
   ],
   "source": [
    "import math\n",
    "import numpy as np\n",
    "import pandas as pd\n",
    "from datetime import datetime\n",
    "\n",
    "import seaborn as sns\n",
    "import matplotlib.pyplot as plt\n",
    "%matplotlib inline \n",
    "print(plt.style.available)\n",
    "plt.style.use('seaborn-v0_8-whitegrid')\n",
    "\n",
    "from sklearn.neighbors import KNeighborsClassifier\n",
    "from sklearn.metrics import classification_report\n",
    "from sklearn.metrics import confusion_matrix"
   ]
  },
  {
   "cell_type": "code",
   "execution_count": 5,
   "id": "fe434ca5-a276-45af-9653-432886457412",
   "metadata": {},
   "outputs": [],
   "source": [
    "df = pd.read_csv('00 df.csv')\n",
    "train = df[df['flag']=='train']\n",
    "test = df[df['flag']=='test']"
   ]
  },
  {
   "cell_type": "code",
   "execution_count": 6,
   "id": "239ab25a-db92-4f0c-8471-ae881d8cbe4d",
   "metadata": {},
   "outputs": [
    {
     "data": {
      "text/html": [
       "<div>\n",
       "<style scoped>\n",
       "    .dataframe tbody tr th:only-of-type {\n",
       "        vertical-align: middle;\n",
       "    }\n",
       "\n",
       "    .dataframe tbody tr th {\n",
       "        vertical-align: top;\n",
       "    }\n",
       "\n",
       "    .dataframe thead th {\n",
       "        text-align: right;\n",
       "    }\n",
       "</style>\n",
       "<table border=\"1\" class=\"dataframe\">\n",
       "  <thead>\n",
       "    <tr style=\"text-align: right;\">\n",
       "      <th></th>\n",
       "      <th>hours_per_week_bin</th>\n",
       "      <th>occupation_bin</th>\n",
       "      <th>msr_bin</th>\n",
       "      <th>capital_gl_bin</th>\n",
       "      <th>race_sex_bin</th>\n",
       "      <th>education_num_bin</th>\n",
       "      <th>education_bin</th>\n",
       "      <th>workclass_bin</th>\n",
       "      <th>age_bin</th>\n",
       "      <th>flag</th>\n",
       "      <th>y</th>\n",
       "    </tr>\n",
       "  </thead>\n",
       "  <tbody>\n",
       "    <tr>\n",
       "      <th>0</th>\n",
       "      <td>b. 31-40</td>\n",
       "      <td>b. Mid - Low</td>\n",
       "      <td>b. Mid</td>\n",
       "      <td>c. &gt; 0</td>\n",
       "      <td>c. High</td>\n",
       "      <td>c. 13</td>\n",
       "      <td>c. Bachelors</td>\n",
       "      <td>b. income</td>\n",
       "      <td>d. 36-40 &amp; 56-60</td>\n",
       "      <td>train</td>\n",
       "      <td>0</td>\n",
       "    </tr>\n",
       "    <tr>\n",
       "      <th>1</th>\n",
       "      <td>a. 0-30</td>\n",
       "      <td>e. High</td>\n",
       "      <td>c. High</td>\n",
       "      <td>a. = 0</td>\n",
       "      <td>c. High</td>\n",
       "      <td>c. 13</td>\n",
       "      <td>c. Bachelors</td>\n",
       "      <td>b. income</td>\n",
       "      <td>e. 40-55</td>\n",
       "      <td>train</td>\n",
       "      <td>0</td>\n",
       "    </tr>\n",
       "    <tr>\n",
       "      <th>2</th>\n",
       "      <td>b. 31-40</td>\n",
       "      <td>a. Low</td>\n",
       "      <td>b. Mid</td>\n",
       "      <td>a. = 0</td>\n",
       "      <td>c. High</td>\n",
       "      <td>b. 9-12</td>\n",
       "      <td>b. Mid</td>\n",
       "      <td>b. income</td>\n",
       "      <td>d. 36-40 &amp; 56-60</td>\n",
       "      <td>train</td>\n",
       "      <td>0</td>\n",
       "    </tr>\n",
       "    <tr>\n",
       "      <th>3</th>\n",
       "      <td>b. 31-40</td>\n",
       "      <td>a. Low</td>\n",
       "      <td>c. High</td>\n",
       "      <td>a. = 0</td>\n",
       "      <td>b. Mid</td>\n",
       "      <td>a. 0-8</td>\n",
       "      <td>a. Low</td>\n",
       "      <td>b. income</td>\n",
       "      <td>e. 40-55</td>\n",
       "      <td>train</td>\n",
       "      <td>0</td>\n",
       "    </tr>\n",
       "    <tr>\n",
       "      <th>4</th>\n",
       "      <td>b. 31-40</td>\n",
       "      <td>e. High</td>\n",
       "      <td>c. High</td>\n",
       "      <td>a. = 0</td>\n",
       "      <td>a. Low</td>\n",
       "      <td>c. 13</td>\n",
       "      <td>c. Bachelors</td>\n",
       "      <td>b. income</td>\n",
       "      <td>b. 26-30 &amp; 71-100</td>\n",
       "      <td>train</td>\n",
       "      <td>0</td>\n",
       "    </tr>\n",
       "  </tbody>\n",
       "</table>\n",
       "</div>"
      ],
      "text/plain": [
       "  hours_per_week_bin occupation_bin  msr_bin capital_gl_bin race_sex_bin  \\\n",
       "0           b. 31-40   b. Mid - Low   b. Mid         c. > 0      c. High   \n",
       "1            a. 0-30        e. High  c. High         a. = 0      c. High   \n",
       "2           b. 31-40         a. Low   b. Mid         a. = 0      c. High   \n",
       "3           b. 31-40         a. Low  c. High         a. = 0       b. Mid   \n",
       "4           b. 31-40        e. High  c. High         a. = 0       a. Low   \n",
       "\n",
       "  education_num_bin education_bin workclass_bin            age_bin   flag  y  \n",
       "0             c. 13  c. Bachelors     b. income   d. 36-40 & 56-60  train  0  \n",
       "1             c. 13  c. Bachelors     b. income           e. 40-55  train  0  \n",
       "2           b. 9-12        b. Mid     b. income   d. 36-40 & 56-60  train  0  \n",
       "3            a. 0-8        a. Low     b. income           e. 40-55  train  0  \n",
       "4             c. 13  c. Bachelors     b. income  b. 26-30 & 71-100  train  0  "
      ]
     },
     "execution_count": 6,
     "metadata": {},
     "output_type": "execute_result"
    }
   ],
   "source": [
    "df.head()"
   ]
  },
  {
   "cell_type": "code",
   "execution_count": 7,
   "id": "efe385da-36ed-4f2a-973a-1a1b3e4eacc7",
   "metadata": {},
   "outputs": [
    {
     "name": "stdout",
     "output_type": "stream",
     "text": [
      "<class 'pandas.core.frame.DataFrame'>\n",
      "RangeIndex: 48842 entries, 0 to 48841\n",
      "Data columns (total 11 columns):\n",
      " #   Column              Non-Null Count  Dtype \n",
      "---  ------              --------------  ----- \n",
      " 0   hours_per_week_bin  48842 non-null  object\n",
      " 1   occupation_bin      48842 non-null  object\n",
      " 2   msr_bin             48842 non-null  object\n",
      " 3   capital_gl_bin      48842 non-null  object\n",
      " 4   race_sex_bin        48842 non-null  object\n",
      " 5   education_num_bin   48842 non-null  object\n",
      " 6   education_bin       48842 non-null  object\n",
      " 7   workclass_bin       48842 non-null  object\n",
      " 8   age_bin             48842 non-null  object\n",
      " 9   flag                48842 non-null  object\n",
      " 10  y                   48842 non-null  int64 \n",
      "dtypes: int64(1), object(10)\n",
      "memory usage: 4.1+ MB\n"
     ]
    }
   ],
   "source": [
    "df.info()"
   ]
  },
  {
   "cell_type": "code",
   "execution_count": 8,
   "id": "13adbfc6-ab70-4b3e-be44-06045907a367",
   "metadata": {},
   "outputs": [],
   "source": [
    "cat_feats = ['age_bin','capital_gl_bin','education_bin','hours_per_week_bin','msr_bin','occupation_bin','race_sex_bin']\n",
    "\n",
    "y_train = train['y']\n",
    "x_train = train[['age_bin','capital_gl_bin','education_bin','hours_per_week_bin','msr_bin','occupation_bin','race_sex_bin']]\n",
    "x_train = pd.get_dummies(x_train,columns=cat_feats,drop_first=True)\n",
    "\n",
    "y_test = test['y']\n",
    "x_test = test[['age_bin','capital_gl_bin','education_bin','hours_per_week_bin','msr_bin','occupation_bin','race_sex_bin']]\n",
    "x_test = pd.get_dummies(x_test,columns=cat_feats,drop_first=True)"
   ]
  },
  {
   "cell_type": "code",
   "execution_count": 9,
   "id": "88cc8ecc-2410-460d-8caf-b4e783527287",
   "metadata": {},
   "outputs": [],
   "source": [
    "error_rate = []\n",
    "for i in range(1,10):    \n",
    "    knn = KNeighborsClassifier(n_neighbors=i)\n",
    "    knn.fit(x_train,y_train)\n",
    "    pred_i = knn.predict(x_test)\n",
    "    error_rate.append(np.mean(pred_i != y_test))"
   ]
  },
  {
   "cell_type": "code",
   "execution_count": 10,
   "id": "219fd0e8-1941-4932-96d8-e90183555887",
   "metadata": {},
   "outputs": [
    {
     "data": {
      "text/plain": [
       "Text(0, 0.5, 'Error Rate')"
      ]
     },
     "execution_count": 10,
     "metadata": {},
     "output_type": "execute_result"
    },
    {
     "data": {
      "image/png": "[encoded data removed]",
      "text/plain": [
       "<Figure size 800x400 with 1 Axes>"
      ]
     },
     "metadata": {},
     "output_type": "display_data"
    }
   ],
   "source": [
    "plt.figure(figsize=(8,4))\n",
    "plt.plot(range(1,10),error_rate,color='darkred', marker='o',markersize=10)\n",
    "plt.title('Error Rate vs. K Value')\n",
    "plt.xlabel('K')\n",
    "plt.ylabel('Error Rate')"
   ]
  },
  {
   "cell_type": "code",
   "execution_count": 11,
   "id": "ca47725c-9b34-4994-b488-e621c8e73c04",
   "metadata": {},
   "outputs": [],
   "source": [
    "knn = KNeighborsClassifier(n_neighbors=15)\n",
    "knn.fit(x_train,y_train)\n",
    "y_pred=knn.predict(x_test)"
   ]
  },
  {
   "cell_type": "code",
   "execution_count": 12,
   "id": "13c2ce44-c019-4a85-b026-e95d0a337012",
   "metadata": {},
   "outputs": [
    {
     "name": "stdout",
     "output_type": "stream",
     "text": [
      "[[11489   946]\n",
      " [ 1784  2062]]\n",
      "accuracy: 0.8323198820711258\n",
      "precision: 0.6855053191489362\n",
      "recall: 0.5361414456578263\n",
      "f1 score:  0.6016924423694193\n"
     ]
    }
   ],
   "source": [
    "test_calc = pd.concat([pd.DataFrame(y_test).reset_index(drop=True),pd.DataFrame(y_pred).reset_index(drop=True)],axis=1)\n",
    "test_calc.rename(columns={0: 'predicted'}, inplace=True)\n",
    "\n",
    "test_calc['predicted'] = test_calc['predicted'].apply(lambda x: 1 if x > 0.5 else 0)\n",
    "df_table = confusion_matrix(test_calc['y'],test_calc['predicted'])\n",
    "print (df_table)\n",
    "\n",
    "print('accuracy:', (df_table[0,0] + df_table[1,1]) / (df_table[0,0] + df_table[0,1] + df_table[1,0] + df_table[1,1]))\n",
    "print ('precision:', df_table[1,1] / (df_table[1,1] + df_table[0,1]))\n",
    "print('recall:', df_table[1,1] / (df_table[1,1] + df_table[1,0]))\n",
    "\n",
    "p = df_table[1,1] / (df_table[1,1] + df_table[0,1])\n",
    "r = df_table[1,1] / (df_table[1,1] + df_table[1,0])\n",
    "print('f1 score: ', (2*p*r)/(p+r))"
   ]
  },
  {
   "cell_type": "code",
   "execution_count": null,
   "id": "6562c0cf-116e-44e0-bac7-b64cfea623ae",
   "metadata": {},
   "outputs": [],
   "source": []
  }
 ],
 "metadata": {
  "kernelspec": {
   "display_name": "Python 3 (ipykernel)",
   "language": "python",
   "name": "python3"
  },
  "language_info": {
   "codemirror_mode": {
    "name": "ipython",
    "version": 3
   },
   "file_extension": ".py",
   "mimetype": "text/x-python",
   "name": "python",
   "nbconvert_exporter": "python",
   "pygments_lexer": "ipython3",
   "version": "3.12.4"
  }
 },
 "nbformat": 4,
 "nbformat_minor": 5
}
